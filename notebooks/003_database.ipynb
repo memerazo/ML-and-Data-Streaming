{
 "cells": [
  {
   "cell_type": "code",
   "execution_count": 3,
   "id": "d7351779",
   "metadata": {},
   "outputs": [],
   "source": [
    "import pandas as pd\n",
    "from sqlalchemy import create_engine\n",
    "import json"
   ]
  },
  {
   "cell_type": "code",
   "execution_count": 4,
   "id": "2c7ddb9d",
   "metadata": {},
   "outputs": [],
   "source": [
    "credentials_path = '/home/user/workshop3_ml_datastreaming/config/credentials.json'\n",
    "with open(credentials_path, 'r') as f:\n",
    "            creds = json.load(f)['database']"
   ]
  },
  {
   "cell_type": "code",
   "execution_count": 5,
   "id": "821c3d3b",
   "metadata": {},
   "outputs": [],
   "source": [
    "user = creds['user']\n",
    "password = creds['password']\n",
    "host = creds['host']\n",
    "port = creds['port']\n",
    "dbname = creds['dbname']"
   ]
  },
  {
   "cell_type": "code",
   "execution_count": 6,
   "id": "c0385618",
   "metadata": {},
   "outputs": [],
   "source": [
    "db_url = f\"postgresql://{user}:{password}@{host}:{port}/{dbname}\"\n",
    "engine = create_engine(db_url)"
   ]
  },
  {
   "cell_type": "code",
   "execution_count": 7,
   "id": "114ac0d8",
   "metadata": {},
   "outputs": [],
   "source": [
    "\n",
    "query = \"INSERT INTO happiness_predictions (gdp_per_capita, healthy_life_expectancy, freedom_to_make_life_choices, generosity, perceptions_of_corruption, continent_africa, continent_america, continent_europe, predicted_happiness_score) VALUES (1.0, 1.0, 1.0, 1.0, 1.0, 0, 0, 1, 5.5);\""
   ]
  },
  {
   "cell_type": "code",
   "execution_count": null,
   "id": "706883d8",
   "metadata": {},
   "outputs": [],
   "source": []
  },
  {
   "cell_type": "code",
   "execution_count": 7,
   "id": "12c537b4",
   "metadata": {},
   "outputs": [],
   "source": [
    "query = \"DROP TABLE  happiness_predictions;\""
   ]
  },
  {
   "cell_type": "code",
   "execution_count": 8,
   "id": "99db57f5",
   "metadata": {},
   "outputs": [
    {
     "ename": "ResourceClosedError",
     "evalue": "This result object does not return rows. It has been closed automatically.",
     "output_type": "error",
     "traceback": [
      "\u001b[31m---------------------------------------------------------------------------\u001b[39m",
      "\u001b[31mResourceClosedError\u001b[39m                       Traceback (most recent call last)",
      "\u001b[36mCell\u001b[39m\u001b[36m \u001b[39m\u001b[32mIn[8]\u001b[39m\u001b[32m, line 1\u001b[39m\n\u001b[32m----> \u001b[39m\u001b[32m1\u001b[39m df = \u001b[43mpd\u001b[49m\u001b[43m.\u001b[49m\u001b[43mread_sql\u001b[49m\u001b[43m(\u001b[49m\u001b[43mquery\u001b[49m\u001b[43m,\u001b[49m\u001b[43m \u001b[49m\u001b[43mcon\u001b[49m\u001b[43m=\u001b[49m\u001b[43mengine\u001b[49m\u001b[43m)\u001b[49m\n",
      "\u001b[36mFile \u001b[39m\u001b[32m~/workshop3_ml_datastreaming/venv/lib/python3.12/site-packages/pandas/io/sql.py:734\u001b[39m, in \u001b[36mread_sql\u001b[39m\u001b[34m(sql, con, index_col, coerce_float, params, parse_dates, columns, chunksize, dtype_backend, dtype)\u001b[39m\n\u001b[32m    724\u001b[39m     \u001b[38;5;28;01mreturn\u001b[39;00m pandas_sql.read_table(\n\u001b[32m    725\u001b[39m         sql,\n\u001b[32m    726\u001b[39m         index_col=index_col,\n\u001b[32m   (...)\u001b[39m\u001b[32m    731\u001b[39m         dtype_backend=dtype_backend,\n\u001b[32m    732\u001b[39m     )\n\u001b[32m    733\u001b[39m \u001b[38;5;28;01melse\u001b[39;00m:\n\u001b[32m--> \u001b[39m\u001b[32m734\u001b[39m     \u001b[38;5;28;01mreturn\u001b[39;00m \u001b[43mpandas_sql\u001b[49m\u001b[43m.\u001b[49m\u001b[43mread_query\u001b[49m\u001b[43m(\u001b[49m\n\u001b[32m    735\u001b[39m \u001b[43m        \u001b[49m\u001b[43msql\u001b[49m\u001b[43m,\u001b[49m\n\u001b[32m    736\u001b[39m \u001b[43m        \u001b[49m\u001b[43mindex_col\u001b[49m\u001b[43m=\u001b[49m\u001b[43mindex_col\u001b[49m\u001b[43m,\u001b[49m\n\u001b[32m    737\u001b[39m \u001b[43m        \u001b[49m\u001b[43mparams\u001b[49m\u001b[43m=\u001b[49m\u001b[43mparams\u001b[49m\u001b[43m,\u001b[49m\n\u001b[32m    738\u001b[39m \u001b[43m        \u001b[49m\u001b[43mcoerce_float\u001b[49m\u001b[43m=\u001b[49m\u001b[43mcoerce_float\u001b[49m\u001b[43m,\u001b[49m\n\u001b[32m    739\u001b[39m \u001b[43m        \u001b[49m\u001b[43mparse_dates\u001b[49m\u001b[43m=\u001b[49m\u001b[43mparse_dates\u001b[49m\u001b[43m,\u001b[49m\n\u001b[32m    740\u001b[39m \u001b[43m        \u001b[49m\u001b[43mchunksize\u001b[49m\u001b[43m=\u001b[49m\u001b[43mchunksize\u001b[49m\u001b[43m,\u001b[49m\n\u001b[32m    741\u001b[39m \u001b[43m        \u001b[49m\u001b[43mdtype_backend\u001b[49m\u001b[43m=\u001b[49m\u001b[43mdtype_backend\u001b[49m\u001b[43m,\u001b[49m\n\u001b[32m    742\u001b[39m \u001b[43m        \u001b[49m\u001b[43mdtype\u001b[49m\u001b[43m=\u001b[49m\u001b[43mdtype\u001b[49m\u001b[43m,\u001b[49m\n\u001b[32m    743\u001b[39m \u001b[43m    \u001b[49m\u001b[43m)\u001b[49m\n",
      "\u001b[36mFile \u001b[39m\u001b[32m~/workshop3_ml_datastreaming/venv/lib/python3.12/site-packages/pandas/io/sql.py:1837\u001b[39m, in \u001b[36mSQLDatabase.read_query\u001b[39m\u001b[34m(self, sql, index_col, coerce_float, parse_dates, params, chunksize, dtype, dtype_backend)\u001b[39m\n\u001b[32m   1790\u001b[39m \u001b[38;5;250m\u001b[39m\u001b[33;03m\"\"\"\u001b[39;00m\n\u001b[32m   1791\u001b[39m \u001b[33;03mRead SQL query into a DataFrame.\u001b[39;00m\n\u001b[32m   1792\u001b[39m \n\u001b[32m   (...)\u001b[39m\u001b[32m   1834\u001b[39m \n\u001b[32m   1835\u001b[39m \u001b[33;03m\"\"\"\u001b[39;00m\n\u001b[32m   1836\u001b[39m result = \u001b[38;5;28mself\u001b[39m.execute(sql, params)\n\u001b[32m-> \u001b[39m\u001b[32m1837\u001b[39m columns = \u001b[43mresult\u001b[49m\u001b[43m.\u001b[49m\u001b[43mkeys\u001b[49m\u001b[43m(\u001b[49m\u001b[43m)\u001b[49m\n\u001b[32m   1839\u001b[39m \u001b[38;5;28;01mif\u001b[39;00m chunksize \u001b[38;5;129;01mis\u001b[39;00m \u001b[38;5;129;01mnot\u001b[39;00m \u001b[38;5;28;01mNone\u001b[39;00m:\n\u001b[32m   1840\u001b[39m     \u001b[38;5;28mself\u001b[39m.returns_generator = \u001b[38;5;28;01mTrue\u001b[39;00m\n",
      "\u001b[36mFile \u001b[39m\u001b[32m~/workshop3_ml_datastreaming/venv/lib/python3.12/site-packages/sqlalchemy/engine/result.py:901\u001b[39m, in \u001b[36m_WithKeys.keys\u001b[39m\u001b[34m(self)\u001b[39m\n\u001b[32m    884\u001b[39m \u001b[38;5;28;01mdef\u001b[39;00m\u001b[38;5;250m \u001b[39m\u001b[34mkeys\u001b[39m(\u001b[38;5;28mself\u001b[39m) -> RMKeyView:\n\u001b[32m    885\u001b[39m \u001b[38;5;250m    \u001b[39m\u001b[33;03m\"\"\"Return an iterable view which yields the string keys that would\u001b[39;00m\n\u001b[32m    886\u001b[39m \u001b[33;03m    be represented by each :class:`_engine.Row`.\u001b[39;00m\n\u001b[32m    887\u001b[39m \n\u001b[32m   (...)\u001b[39m\u001b[32m    899\u001b[39m \n\u001b[32m    900\u001b[39m \u001b[33;03m    \"\"\"\u001b[39;00m\n\u001b[32m--> \u001b[39m\u001b[32m901\u001b[39m     \u001b[38;5;28;01mreturn\u001b[39;00m \u001b[38;5;28;43mself\u001b[39;49m\u001b[43m.\u001b[49m\u001b[43m_metadata\u001b[49m\u001b[43m.\u001b[49m\u001b[43mkeys\u001b[49m\n",
      "\u001b[36mFile \u001b[39m\u001b[32m~/workshop3_ml_datastreaming/venv/lib/python3.12/site-packages/sqlalchemy/engine/cursor.py:1374\u001b[39m, in \u001b[36m_NoResultMetaData.keys\u001b[39m\u001b[34m(self)\u001b[39m\n\u001b[32m   1372\u001b[39m \u001b[38;5;129m@property\u001b[39m\n\u001b[32m   1373\u001b[39m \u001b[38;5;28;01mdef\u001b[39;00m\u001b[38;5;250m \u001b[39m\u001b[34mkeys\u001b[39m(\u001b[38;5;28mself\u001b[39m):\n\u001b[32m-> \u001b[39m\u001b[32m1374\u001b[39m     \u001b[38;5;28;43mself\u001b[39;49m\u001b[43m.\u001b[49m\u001b[43m_we_dont_return_rows\u001b[49m\u001b[43m(\u001b[49m\u001b[43m)\u001b[49m\n",
      "\u001b[36mFile \u001b[39m\u001b[32m~/workshop3_ml_datastreaming/venv/lib/python3.12/site-packages/sqlalchemy/engine/cursor.py:1346\u001b[39m, in \u001b[36m_NoResultMetaData._we_dont_return_rows\u001b[39m\u001b[34m(self, err)\u001b[39m\n\u001b[32m   1345\u001b[39m \u001b[38;5;28;01mdef\u001b[39;00m\u001b[38;5;250m \u001b[39m\u001b[34m_we_dont_return_rows\u001b[39m(\u001b[38;5;28mself\u001b[39m, err=\u001b[38;5;28;01mNone\u001b[39;00m):\n\u001b[32m-> \u001b[39m\u001b[32m1346\u001b[39m     \u001b[38;5;28;01mraise\u001b[39;00m exc.ResourceClosedError(\n\u001b[32m   1347\u001b[39m         \u001b[33m\"\u001b[39m\u001b[33mThis result object does not return rows. \u001b[39m\u001b[33m\"\u001b[39m\n\u001b[32m   1348\u001b[39m         \u001b[33m\"\u001b[39m\u001b[33mIt has been closed automatically.\u001b[39m\u001b[33m\"\u001b[39m\n\u001b[32m   1349\u001b[39m     ) \u001b[38;5;28;01mfrom\u001b[39;00m\u001b[38;5;250m \u001b[39m\u001b[34;01merr\u001b[39;00m\n",
      "\u001b[31mResourceClosedError\u001b[39m: This result object does not return rows. It has been closed automatically."
     ]
    }
   ],
   "source": [
    "df = pd.read_sql(query, con=engine)"
   ]
  },
  {
   "cell_type": "code",
   "execution_count": 9,
   "id": "e42a93d4",
   "metadata": {},
   "outputs": [
    {
     "name": "stdout",
     "output_type": "stream",
     "text": [
      "Showing first 0 rows from the table happiness_predictions:\n"
     ]
    },
    {
     "data": {
      "text/html": [
       "<div>\n",
       "<style scoped>\n",
       "    .dataframe tbody tr th:only-of-type {\n",
       "        vertical-align: middle;\n",
       "    }\n",
       "\n",
       "    .dataframe tbody tr th {\n",
       "        vertical-align: top;\n",
       "    }\n",
       "\n",
       "    .dataframe thead th {\n",
       "        text-align: right;\n",
       "    }\n",
       "</style>\n",
       "<table border=\"1\" class=\"dataframe\">\n",
       "  <thead>\n",
       "    <tr style=\"text-align: right;\">\n",
       "      <th></th>\n",
       "      <th>id</th>\n",
       "      <th>country</th>\n",
       "      <th>year</th>\n",
       "      <th>gdp_per_capita</th>\n",
       "      <th>social_support</th>\n",
       "      <th>life_expectancy</th>\n",
       "      <th>freedom</th>\n",
       "      <th>trust</th>\n",
       "      <th>generosity</th>\n",
       "      <th>predicted_happiness_score</th>\n",
       "    </tr>\n",
       "  </thead>\n",
       "  <tbody>\n",
       "  </tbody>\n",
       "</table>\n",
       "</div>"
      ],
      "text/plain": [
       "Empty DataFrame\n",
       "Columns: [id, country, year, gdp_per_capita, social_support, life_expectancy, freedom, trust, generosity, predicted_happiness_score]\n",
       "Index: []"
      ]
     },
     "metadata": {},
     "output_type": "display_data"
    }
   ],
   "source": [
    "print(f\"Showing first {len(df)} rows from the table happiness_predictions:\")\n",
    "display(df)"
   ]
  },
  {
   "cell_type": "code",
   "execution_count": 10,
   "id": "f3745b39",
   "metadata": {},
   "outputs": [
    {
     "data": {
      "text/plain": [
       "<bound method NDFrame.head of    gdp_per_capita  healthy_life_expectancy  freedom_to_make_life_choices  \\\n",
       "0         1.39651                  0.94143                       0.66557   \n",
       "1         1.30232                  0.94784                       0.62877   \n",
       "2         1.32548                  0.87464                       0.64938   \n",
       "3         1.45900                  0.88521                       0.66973   \n",
       "4         1.32629                  0.90563                       0.63297   \n",
       "5         1.29025                  0.88911                       0.64169   \n",
       "6         1.32944                  0.89284                       0.61576   \n",
       "7         1.33171                  0.91087                       0.65980   \n",
       "8         1.25018                  0.90837                       0.63938   \n",
       "9         1.33358                  0.93156                       0.65124   \n",
       "\n",
       "   generosity  perceptions_of_corruption  continent_africa  continent_america  \\\n",
       "0     0.29678                    0.41978               0.0                0.0   \n",
       "1     0.43630                    0.14145               0.0                0.0   \n",
       "2     0.34139                    0.48357               0.0                0.0   \n",
       "3     0.34699                    0.36503               0.0                0.0   \n",
       "4     0.45811                    0.32957               0.0                1.0   \n",
       "5     0.23351                    0.41372               0.0                0.0   \n",
       "6     0.47610                    0.31814               0.0                0.0   \n",
       "7     0.36262                    0.43844               0.0                0.0   \n",
       "8     0.47501                    0.42922               0.0                0.0   \n",
       "9     0.43562                    0.35637               0.0                0.0   \n",
       "\n",
       "   continent_europe  predicted_happiness_score  \n",
       "0               1.0                   7.555061  \n",
       "1               1.0                   7.327189  \n",
       "2               1.0                   7.338420  \n",
       "3               1.0                   7.555416  \n",
       "4               0.0                   7.454664  \n",
       "5               1.0                   7.352080  \n",
       "6               1.0                   7.160347  \n",
       "7               1.0                   7.484773  \n",
       "8               0.0                   7.206187  \n",
       "9               0.0                   7.209667  >"
      ]
     },
     "execution_count": 10,
     "metadata": {},
     "output_type": "execute_result"
    }
   ],
   "source": [
    "query = \"SELECT * FROM happiness_predictions LIMIT 10;\"\n",
    "df = pd.read_sql(query, con=engine)\n",
    "df.head"
   ]
  }
 ],
 "metadata": {
  "kernelspec": {
   "display_name": "venv",
   "language": "python",
   "name": "python3"
  },
  "language_info": {
   "codemirror_mode": {
    "name": "ipython",
    "version": 3
   },
   "file_extension": ".py",
   "mimetype": "text/x-python",
   "name": "python",
   "nbconvert_exporter": "python",
   "pygments_lexer": "ipython3",
   "version": "3.12.3"
  }
 },
 "nbformat": 4,
 "nbformat_minor": 5
}
